{
 "cells": [
  {
   "cell_type": "markdown",
   "id": "a4f84794-baac-4d0f-9d86-5d6e617bb461",
   "metadata": {},
   "source": [
    "Strings:\n",
    "\n",
    "Given the string s = \"ProgrammingIsFun\", extract and print the substring \"Program\".\n",
    "Extract and print the substring \"Fun\".\n",
    "Extract and print every 3rd character of the string."
   ]
  },
  {
   "cell_type": "code",
   "execution_count": 5,
   "id": "47c81b72-82a4-4f27-beaa-a53c3ae5ccb1",
   "metadata": {
    "tags": []
   },
   "outputs": [
    {
     "data": {
      "text/plain": [
       "'Program'"
      ]
     },
     "execution_count": 5,
     "metadata": {},
     "output_type": "execute_result"
    }
   ],
   "source": [
    "s = \"ProgrammingIsFun\"\n",
    "\n",
    "sub_str = s [0:7]\n",
    "sub_str"
   ]
  },
  {
   "cell_type": "code",
   "execution_count": 6,
   "id": "9ba4655b-7214-4bfd-98ea-54796dd5cf01",
   "metadata": {
    "tags": []
   },
   "outputs": [
    {
     "data": {
      "text/plain": [
       "'rmgF'"
      ]
     },
     "execution_count": 6,
     "metadata": {},
     "output_type": "execute_result"
    }
   ],
   "source": [
    "s[4::3]"
   ]
  },
  {
   "cell_type": "markdown",
   "id": "a3a22f39-5676-4dc7-be14-105f94c52186",
   "metadata": {},
   "source": [
    "Lists:\n",
    "\n",
    "Given the list lst = [10, 20, 30, 40, 50, 60, 70, 80]:\n",
    "Extract and print the first 3 elements.\n",
    "Extract and print the last 2 elements.\n",
    "Extract and print the elements from index 3 to 6 (inclusive).\n",
    "Extract and print every 2nd element from the list.\n",
    "Extract and print every 2nd element starting from the end of the list."
   ]
  },
  {
   "cell_type": "code",
   "execution_count": 11,
   "id": "6192efd6-7bb9-4a0f-8ff0-38ab60ba22b1",
   "metadata": {
    "tags": []
   },
   "outputs": [
    {
     "data": {
      "text/plain": [
       "(10, 20, 30)"
      ]
     },
     "execution_count": 11,
     "metadata": {},
     "output_type": "execute_result"
    }
   ],
   "source": [
    "lst = [10, 20, 30, 40, 50, 60, 70, 80]\n",
    "\n",
    "lst[0], lst[1], lst[2]"
   ]
  },
  {
   "cell_type": "code",
   "execution_count": 15,
   "id": "0b4edc6f-a08a-4c40-bc1d-e67f465c28a0",
   "metadata": {
    "tags": []
   },
   "outputs": [
    {
     "data": {
      "text/plain": [
       "(70, 80)"
      ]
     },
     "execution_count": 15,
     "metadata": {},
     "output_type": "execute_result"
    }
   ],
   "source": [
    "lst[-2], lst[-1]"
   ]
  },
  {
   "cell_type": "code",
   "execution_count": 26,
   "id": "7e4c2432-c72d-406a-9b67-5fa7146a9fa0",
   "metadata": {
    "tags": []
   },
   "outputs": [
    {
     "data": {
      "text/plain": [
       "[30, 40, 50, 60, 70]"
      ]
     },
     "execution_count": 26,
     "metadata": {},
     "output_type": "execute_result"
    }
   ],
   "source": [
    "lst[2:7]"
   ]
  },
  {
   "cell_type": "code",
   "execution_count": 42,
   "id": "25ae0b9a-0737-4d2c-ba08-b868dfcc8e9d",
   "metadata": {
    "tags": []
   },
   "outputs": [
    {
     "data": {
      "text/plain": [
       "[20, 40, 60, 80]"
      ]
     },
     "execution_count": 42,
     "metadata": {},
     "output_type": "execute_result"
    }
   ],
   "source": [
    "lst[1:8:2]"
   ]
  },
  {
   "cell_type": "code",
   "execution_count": 109,
   "id": "e413a32e-bbbe-4310-9b6c-c5efa200bc3a",
   "metadata": {
    "tags": []
   },
   "outputs": [
    {
     "data": {
      "text/plain": [
       "[100, 80, 60, 40, 10]"
      ]
     },
     "execution_count": 109,
     "metadata": {},
     "output_type": "execute_result"
    }
   ],
   "source": [
    "lst.reverse()\n",
    "lst[::2]"
   ]
  },
  {
   "cell_type": "markdown",
   "id": "fb36a28c-d473-4c7a-aab6-63adab852a1f",
   "metadata": {},
   "source": [
    "Given the tuple tup = (5, 10, 15, 20, 25, 30, 35, 40):\n",
    "Extract and print the second element.\n",
    "Extract and print the last 3 elements.\n",
    "Extract and print the elements from index 2 to 5 (exclusive)."
   ]
  },
  {
   "cell_type": "code",
   "execution_count": 123,
   "id": "fed49f75-9244-4c87-b020-e77ca7b40385",
   "metadata": {
    "tags": []
   },
   "outputs": [
    {
     "data": {
      "text/plain": [
       "10"
      ]
     },
     "execution_count": 123,
     "metadata": {},
     "output_type": "execute_result"
    }
   ],
   "source": [
    "tup = (5, 10, 15, 20, 25, 30, 35, 40)\n",
    "\n",
    "tup[1]"
   ]
  },
  {
   "cell_type": "code",
   "execution_count": 126,
   "id": "54038fe3-3c8e-4b74-9c9c-cd10e812191a",
   "metadata": {
    "tags": []
   },
   "outputs": [
    {
     "data": {
      "text/plain": [
       "(30, 35, 40)"
      ]
     },
     "execution_count": 126,
     "metadata": {},
     "output_type": "execute_result"
    }
   ],
   "source": [
    "tup[5:8]"
   ]
  },
  {
   "cell_type": "code",
   "execution_count": 127,
   "id": "801b32b0-48be-480b-ac5b-4b0e2490caae",
   "metadata": {
    "tags": []
   },
   "outputs": [
    {
     "data": {
      "text/plain": [
       "(15, 20, 25)"
      ]
     },
     "execution_count": 127,
     "metadata": {},
     "output_type": "execute_result"
    }
   ],
   "source": [
    "tup[2:5]"
   ]
  },
  {
   "cell_type": "markdown",
   "id": "d9f9bf3e-1126-4270-9434-ef82eeffb446",
   "metadata": {},
   "source": [
    "Part B: Methods of Data Structures\n",
    "\n",
    "Strings:\n",
    "\n",
    "Find and print the index of the first occurrence of the substring \"ming\" in s.\n",
    "Convert the string s to lowercase and print the result.\n",
    "Replace the substring \"Fun\" in s with \"Amazing\" and print the result."
   ]
  },
  {
   "cell_type": "code",
   "execution_count": 67,
   "id": "4496fcd7-ae16-4e3c-a903-88fe872d4b8a",
   "metadata": {
    "tags": []
   },
   "outputs": [
    {
     "data": {
      "text/plain": [
       "'ming'"
      ]
     },
     "execution_count": 67,
     "metadata": {},
     "output_type": "execute_result"
    }
   ],
   "source": [
    "s[7:11]"
   ]
  },
  {
   "cell_type": "code",
   "execution_count": 82,
   "id": "41dd2f83-b327-4b71-b374-cef1aebfa434",
   "metadata": {
    "tags": []
   },
   "outputs": [
    {
     "name": "stdout",
     "output_type": "stream",
     "text": [
      "programmingisfun\n"
     ]
    }
   ],
   "source": [
    "print(s.lower())"
   ]
  },
  {
   "cell_type": "code",
   "execution_count": 90,
   "id": "e69b93ee-7021-4048-9b6d-97dd9f5b65c8",
   "metadata": {
    "tags": []
   },
   "outputs": [
    {
     "data": {
      "text/plain": [
       "'ProgrammingIsAmazing'"
      ]
     },
     "execution_count": 90,
     "metadata": {},
     "output_type": "execute_result"
    }
   ],
   "source": [
    "rep_string = \"Amazing\"\n",
    "s.replace(\"Fun\", rep_string)"
   ]
  },
  {
   "cell_type": "markdown",
   "id": "a0f226e3-0582-4dbe-ab72-fb167f7e8fc0",
   "metadata": {},
   "source": [
    "Lists:\n",
    "\n",
    "Add the elements 90 and 100 to the end of lst and print the updated list.\n",
    "Remove the second element from lst and print the updated list.\n",
    "Reverse the order of elements in lst and print the updated list.\n",
    "Find and print the index of element 50 in lst."
   ]
  },
  {
   "cell_type": "code",
   "execution_count": 105,
   "id": "ee40a936-5f63-4291-8191-e4d5be0e5441",
   "metadata": {
    "tags": []
   },
   "outputs": [
    {
     "name": "stdout",
     "output_type": "stream",
     "text": [
      "[10, 20, 30, 40, 50, 60, 70, 80, 90, 100]\n"
     ]
    }
   ],
   "source": [
    "lst.append(90)\n",
    "lst.append(100)\n",
    "print(lst)"
   ]
  },
  {
   "cell_type": "code",
   "execution_count": 106,
   "id": "ea2db417-58d6-4184-a82c-8f77320b8b7b",
   "metadata": {
    "tags": []
   },
   "outputs": [
    {
     "name": "stdout",
     "output_type": "stream",
     "text": [
      "[10, 30, 40, 50, 60, 70, 80, 90, 100]\n"
     ]
    }
   ],
   "source": [
    "lst.remove(20)\n",
    "print(lst)"
   ]
  },
  {
   "cell_type": "code",
   "execution_count": 110,
   "id": "46197776-ece9-4274-a87e-9d42ee7a57da",
   "metadata": {
    "tags": []
   },
   "outputs": [
    {
     "name": "stdout",
     "output_type": "stream",
     "text": [
      "[100, 90, 80, 70, 60, 50, 40, 30, 10]\n"
     ]
    }
   ],
   "source": [
    "lst.reverse\n",
    "print(lst)"
   ]
  },
  {
   "cell_type": "code",
   "execution_count": 113,
   "id": "06f0df08-3579-4113-b28d-2639a6d173ae",
   "metadata": {
    "tags": []
   },
   "outputs": [
    {
     "name": "stdout",
     "output_type": "stream",
     "text": [
      "5\n"
     ]
    }
   ],
   "source": [
    "index = lst.index(50)\n",
    "print(index)"
   ]
  },
  {
   "cell_type": "markdown",
   "id": "575a9c30-0aed-4d42-a073-8c0e98878983",
   "metadata": {},
   "source": [
    "Tuples:\n",
    "\n",
    "Count and print the number of occurrences of 20 in tup.\n",
    "Convert tup into a list, add the number 45 at its end, then convert it back to a tuple. Print the new tuple."
   ]
  },
  {
   "cell_type": "code",
   "execution_count": 128,
   "id": "3eb85644-4984-4c13-83a1-d919a47d67da",
   "metadata": {
    "tags": []
   },
   "outputs": [
    {
     "name": "stdout",
     "output_type": "stream",
     "text": [
      "1\n"
     ]
    }
   ],
   "source": [
    "print(tup.count(20))"
   ]
  },
  {
   "cell_type": "code",
   "execution_count": 145,
   "id": "b65dd901-54d5-4d5b-884f-ab96763c08df",
   "metadata": {
    "tags": []
   },
   "outputs": [],
   "source": [
    "list(tup)\n",
    "tup = [5, 10, 15, 20, 25, 30, 35, 40]"
   ]
  },
  {
   "cell_type": "code",
   "execution_count": 151,
   "id": "4b375035-c32d-4553-b2db-a026b19e3964",
   "metadata": {
    "tags": []
   },
   "outputs": [
    {
     "name": "stdout",
     "output_type": "stream",
     "text": [
      "[5, 10, 15, 20, 25, 30, 35, 40, 45]\n"
     ]
    }
   ],
   "source": [
    "tup.append(45)\n",
    "print(tup)"
   ]
  },
  {
   "cell_type": "code",
   "execution_count": 154,
   "id": "7ede23de-8cef-451d-92b7-c6ee7196b6f1",
   "metadata": {
    "tags": []
   },
   "outputs": [
    {
     "name": "stdout",
     "output_type": "stream",
     "text": [
      "(5, 10, 15, 20, 25, 30, 35, 40)\n"
     ]
    }
   ],
   "source": [
    "tuple(tup)\n",
    "tup = (5, 10, 15, 20, 25, 30, 35, 40)\n",
    "print(tup)"
   ]
  },
  {
   "cell_type": "markdown",
   "id": "e9c82577-5c8d-4d3a-9edd-0f092524d4da",
   "metadata": {},
   "source": [
    "Dictionaries:\n",
    "\n",
    "Given the dictionary S_Doo_ = {\"Scooby\": 4, \"Shaggy\": 19, \"Velma\": 18, \"Daphne\": 20}\n",
    "Add a new key-value pair: \"Phred\": 21 and print the updated dictionary.\n",
    "Retrieve and print the age of \"Velma\".\n",
    "Remove \"Scooby\" and his age from the dictionary and print the updated dictionary.\n",
    "Print all the keys in the dictionary.\n",
    "Print all the values in the dictionary."
   ]
  },
  {
   "cell_type": "code",
   "execution_count": 157,
   "id": "508f6c55-6465-4c90-af0e-3d23b6925e18",
   "metadata": {
    "tags": []
   },
   "outputs": [
    {
     "name": "stdout",
     "output_type": "stream",
     "text": [
      "{'Scooby': 4, 'Shaggy': 19, 'Velma': 18, 'Daphne': 20, 'Phred': 21}\n"
     ]
    }
   ],
   "source": [
    "S_Doo_ = {\"Scooby\": 4, \"Shaggy\": 19, \"Velma\": 18, \"Daphne\": 20}\n",
    "\n",
    "S_Doo_[\"Phred\"] = 21\n",
    "print(S_Doo_)"
   ]
  },
  {
   "cell_type": "code",
   "execution_count": 159,
   "id": "3c669d27-61d9-4a42-985d-bb11e3af41b0",
   "metadata": {
    "tags": []
   },
   "outputs": [
    {
     "name": "stdout",
     "output_type": "stream",
     "text": [
      "18\n"
     ]
    }
   ],
   "source": [
    "print(S_Doo_[\"Velma\"])"
   ]
  },
  {
   "cell_type": "code",
   "execution_count": 160,
   "id": "19a0aa03-b122-4193-8f21-49712b654dd1",
   "metadata": {
    "tags": []
   },
   "outputs": [
    {
     "name": "stdout",
     "output_type": "stream",
     "text": [
      "{'Shaggy': 19, 'Velma': 18, 'Daphne': 20, 'Phred': 21}\n"
     ]
    }
   ],
   "source": [
    "del S_Doo_[\"Scooby\"]\n",
    "print(S_Doo_)"
   ]
  },
  {
   "cell_type": "code",
   "execution_count": 161,
   "id": "4edda044-0593-4750-a029-2adfc509b824",
   "metadata": {
    "tags": []
   },
   "outputs": [
    {
     "name": "stdout",
     "output_type": "stream",
     "text": [
      "dict_keys(['Shaggy', 'Velma', 'Daphne', 'Phred'])\n"
     ]
    }
   ],
   "source": [
    "print(S_Doo_.keys())"
   ]
  },
  {
   "cell_type": "code",
   "execution_count": 162,
   "id": "70fc4dc6-d39a-4171-ace1-2e27cca1b1be",
   "metadata": {
    "tags": []
   },
   "outputs": [
    {
     "name": "stdout",
     "output_type": "stream",
     "text": [
      "dict_values([19, 18, 20, 21])\n"
     ]
    }
   ],
   "source": [
    "print(S_Doo_.values())"
   ]
  }
 ],
 "metadata": {
  "kernelspec": {
   "display_name": "Python 3 (ipykernel)",
   "language": "python",
   "name": "python3"
  },
  "language_info": {
   "codemirror_mode": {
    "name": "ipython",
    "version": 3
   },
   "file_extension": ".py",
   "mimetype": "text/x-python",
   "name": "python",
   "nbconvert_exporter": "python",
   "pygments_lexer": "ipython3",
   "version": "3.11.4"
  }
 },
 "nbformat": 4,
 "nbformat_minor": 5
}
