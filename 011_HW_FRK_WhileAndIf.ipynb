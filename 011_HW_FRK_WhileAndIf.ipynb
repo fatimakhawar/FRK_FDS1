{
 "cells": [
  {
   "cell_type": "markdown",
   "id": "ecbad364-4922-4db9-84b0-a39c098ba2f4",
   "metadata": {},
   "source": [
    "a) Write come code that determines whether either of the letters in test_strs = [“y”, “o”] are in the string comp_str = “Hello World!”.\n",
    "\n",
    "b) In logic and computing there is a comparison called an “exclusive or” or “xor”. An xor test produces True(or 1) only when one but not both of its inputs are True. Note that this is different than an or, which yields True if either input is true. \n",
    "\n",
    "Write a line of code that performs an xor on two Boolean variables, a and b, using the tests we know about: and, or, and not. Test you code for all four possible combinations of a and b.\n",
    "\n"
   ]
  },
  {
   "cell_type": "code",
   "execution_count": 82,
   "id": "ffbc9b15-a2e1-4dcc-af9b-b43aaf4fad19",
   "metadata": {
    "tags": []
   },
   "outputs": [
    {
     "name": "stdout",
     "output_type": "stream",
     "text": [
      "At least one letter from test_strs is in comp_str.\n"
     ]
    }
   ],
   "source": [
    "test_strs = [\"y\", \"o\"]\n",
    "comp_str = \"Hello World!\"\n",
    "\n",
    "\n",
    "if any(letter in comp_str for letter in test_strs):\n",
    "    print(\"At least one letter from test_strs is in comp_str.\")\n",
    "else:\n",
    "    print(\"None of the letters from test_strs are in comp_str.\")"
   ]
  },
  {
   "cell_type": "code",
   "execution_count": 64,
   "id": "779f3cd7-2415-4d41-8580-8da767215458",
   "metadata": {
    "tags": []
   },
   "outputs": [
    {
     "name": "stdout",
     "output_type": "stream",
     "text": [
      "False\n"
     ]
    }
   ],
   "source": [
    "a = 1\n",
    "b = 1\n",
    "\n",
    "result = (a or b) and not (a and b)\n",
    "print(result) "
   ]
  },
  {
   "cell_type": "code",
   "execution_count": 63,
   "id": "00e9fd46-3b5d-42fc-ad5b-657ccc8e0e7d",
   "metadata": {
    "tags": []
   },
   "outputs": [
    {
     "name": "stdout",
     "output_type": "stream",
     "text": [
      "True\n"
     ]
    }
   ],
   "source": [
    "a = 1 \n",
    "b = 0\n",
    "result = (a or b) and not (a and b)\n",
    "print(result)"
   ]
  },
  {
   "cell_type": "code",
   "execution_count": 62,
   "id": "9bc6e7f3-dfc3-4008-8327-c2c66c81ee05",
   "metadata": {
    "tags": []
   },
   "outputs": [
    {
     "name": "stdout",
     "output_type": "stream",
     "text": [
      "True\n"
     ]
    }
   ],
   "source": [
    "a = 0\n",
    "b = 1\n",
    "result = (a or b) and not (a and b)\n",
    "print(result)"
   ]
  },
  {
   "cell_type": "code",
   "execution_count": 61,
   "id": "8898d7aa-147c-47c1-b9f2-c3b9de74d828",
   "metadata": {},
   "outputs": [
    {
     "name": "stdout",
     "output_type": "stream",
     "text": [
      "0\n"
     ]
    }
   ],
   "source": [
    "a = 0\n",
    "b = 0\n",
    "result = (a or b) and not (a and b)\n",
    "print(result) "
   ]
  },
  {
   "cell_type": "raw",
   "id": "f0f146c9-33e5-4d95-a9f6-10ac8bfc8612",
   "metadata": {},
   "source": [
    "1. Age Category:\n",
    "\n",
    "Write a program that:\n",
    "\n",
    "a) Asks the user to input their age.\n",
    "b) Based on the age, classifies them into one of the following categories:\n",
    "\n",
    "Infant (0-2 years)\n",
    "Child (3-12 years)\n",
    "Teenager (13-19 years)\n",
    "Adult (20-64 years)\n",
    "Senior (65 years and above)\n",
    "Hint: Use the if-elif-else structure."
   ]
  },
  {
   "cell_type": "code",
   "execution_count": 33,
   "id": "a9030ac4-cff9-4eb8-acfb-78954cb0eb1d",
   "metadata": {
    "tags": []
   },
   "outputs": [
    {
     "name": "stdin",
     "output_type": "stream",
     "text": [
      "Please input your age 76\n"
     ]
    },
    {
     "name": "stdout",
     "output_type": "stream",
     "text": [
      "you are a Senior\n"
     ]
    }
   ],
   "source": [
    "Age = int(input(\"Please input your age\"))\n",
    "\n",
    "if Age >= 0 and Age <= 2:\n",
    "    print(\"you are an Infant\")\n",
    "elif Age >= 3 and Age <= 12 :\n",
    "    print(\"you are a Child\")\n",
    "elif Age >=13 and Age <=19 :\n",
    "    print(\"you are a Teenager\")\n",
    "elif Age >=20 and Age <= 64:\n",
    "    print(\"you are an Adult\") \n",
    "else: \n",
    "    print(\"you are a Senior\") "
   ]
  },
  {
   "cell_type": "code",
   "execution_count": null,
   "id": "304eaa36-79f0-40d5-a5fb-b48a6eacd4aa",
   "metadata": {},
   "outputs": [],
   "source": [
    "2. Number Classifier:\n",
    "\n",
    "Ask the user to input a number. Write a program to:\n",
    "\n",
    "a) Check if the number is positive, negative, or zero.\n",
    "b) Check if the number is even or odd.\n",
    "\n",
    "Sample output: “Your number, 42, is positive and even.\""
   ]
  },
  {
   "cell_type": "code",
   "execution_count": 49,
   "id": "5b0c205f-9a85-44ec-a8ea-5b1e11d915b3",
   "metadata": {
    "tags": []
   },
   "outputs": [
    {
     "name": "stdin",
     "output_type": "stream",
     "text": [
      "Please enter a number 0\n"
     ]
    },
    {
     "name": "stdout",
     "output_type": "stream",
     "text": [
      "Your number, 0.0, is zero and even\n"
     ]
    }
   ],
   "source": [
    "Number = float(input(\"Please enter a number\"))\n",
    "\n",
    "if Number > 0:\n",
    "    category = \"positive\"\n",
    "elif Number < 0:\n",
    "    category = \"negative\"\n",
    "else:\n",
    "     category = \"zero\"\n",
    "\n",
    "if Number % 2 == 0: \n",
    "    category2 = \"even\"\n",
    "else: \n",
    "    category2 = \"odd\"\n",
    "\n",
    "print(f\"Your number, {Number}, is {category} and {category2}\")              "
   ]
  },
  {
   "cell_type": "markdown",
   "id": "ba27a36e-32c0-480a-81a1-947e66a5148c",
   "metadata": {},
   "source": [
    ". Simple Calculator:\n",
    "\n",
    "Design a calculator that can perform addition, subtraction, multiplication, and division. The program should:\n",
    "\n",
    "a) Ask the user to input two numbers.\n",
    "b) Ask the user to select an operation.\n",
    "c) Perform the selected operation on the two numbers and display the result.\n",
    "\n",
    "Make sure to handle invalid operations with an appropriate error message"
   ]
  },
  {
   "cell_type": "code",
   "execution_count": 78,
   "id": "89351025-43ae-41f7-a8cb-62bd3ceba138",
   "metadata": {
    "tags": []
   },
   "outputs": [
    {
     "name": "stdin",
     "output_type": "stream",
     "text": [
      "Enter the first number:  1\n",
      "Enter the second number:  2\n",
      "Select operation (+, -, *, /):  *\n"
     ]
    },
    {
     "name": "stdout",
     "output_type": "stream",
     "text": [
      "Answer: 2.0\n"
     ]
    }
   ],
   "source": [
    "x = float(input(\"Enter the first number: \"))\n",
    "y = float(input(\"Enter the second number: \"))\n",
    "\n",
    "operation = input(\"Select operation (+, -, *, /): \")\n",
    "\n",
    "\n",
    "if operation == '+':\n",
    "    result = x + y\n",
    "elif operation == '-':\n",
    "    result = x - y\n",
    "elif operation == '*':\n",
    "    result = x * y\n",
    "elif operation == '/':\n",
    "    if x == 0:\n",
    "        result = \"Division by zero is not allowed.\"\n",
    "    else:\n",
    "        result = x / y\n",
    "else:\n",
    "    result = \"Invalid input. Please select +, -, *, or /.\"\n",
    "    \n",
    "print(f\"Answer: {result}\")"
   ]
  }
 ],
 "metadata": {
  "kernelspec": {
   "display_name": "Python 3 (ipykernel)",
   "language": "python",
   "name": "python3"
  },
  "language_info": {
   "codemirror_mode": {
    "name": "ipython",
    "version": 3
   },
   "file_extension": ".py",
   "mimetype": "text/x-python",
   "name": "python",
   "nbconvert_exporter": "python",
   "pygments_lexer": "ipython3",
   "version": "3.11.4"
  }
 },
 "nbformat": 4,
 "nbformat_minor": 5
}
