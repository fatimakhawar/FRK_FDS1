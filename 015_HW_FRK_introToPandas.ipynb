{
 "cells": [
  {
   "cell_type": "markdown",
   "id": "20786aec-c825-448c-afb0-9688855b0068",
   "metadata": {},
   "source": [
    "Create a Series:\n",
    "\n",
    "Create a Series named fruits with the data: 'apple', 'banana', 'cherry', 'date', and assign it an index of 'a', 'b', 'c', 'd' respectively.\n",
    "Print the Series.\n",
    "Print the Index of the series\n",
    "\n",
    "\n",
    "Print the second (\"b\") element of the fruits Series.\n",
    "\n",
    "Create a Series with the squares of the numbers 1 through 5.\n",
    "Add 10 to each item in the series (hint: there a method to this madness)."
   ]
  },
  {
   "cell_type": "code",
   "execution_count": 3,
   "id": "856d4887-23e3-4cbe-802b-4ba7559f1daf",
   "metadata": {
    "tags": []
   },
   "outputs": [],
   "source": [
    "import pandas as pd"
   ]
  },
  {
   "cell_type": "code",
   "execution_count": 4,
   "id": "98581768-0792-447d-8510-cc6b9b16be8b",
   "metadata": {
    "tags": []
   },
   "outputs": [
    {
     "name": "stdout",
     "output_type": "stream",
     "text": [
      "a     apple\n",
      "b    banana\n",
      "c    cherry\n",
      "d      date\n",
      "dtype: object\n",
      "Index(['a', 'b', 'c', 'd'], dtype='object')\n"
     ]
    }
   ],
   "source": [
    "fruits = pd.Series(['apple', 'banana', 'cherry', 'date'],index=['a','b','c','d'])\n",
    "\n",
    "print(fruits)\n",
    "print(fruits.index)"
   ]
  },
  {
   "cell_type": "code",
   "execution_count": 5,
   "id": "8cab8ab6-758c-444b-92c7-60f6b9d79157",
   "metadata": {
    "tags": []
   },
   "outputs": [
    {
     "name": "stdout",
     "output_type": "stream",
     "text": [
      "banana\n"
     ]
    }
   ],
   "source": [
    "print(fruits['b'])"
   ]
  },
  {
   "cell_type": "code",
   "execution_count": 6,
   "id": "365ea538-7dc2-4cc8-84de-dbb6e624cf02",
   "metadata": {
    "tags": []
   },
   "outputs": [
    {
     "name": "stdout",
     "output_type": "stream",
     "text": [
      "0     1\n",
      "1     4\n",
      "2     9\n",
      "3    16\n",
      "4    25\n",
      "dtype: int64\n",
      "0    11\n",
      "1    14\n",
      "2    19\n",
      "3    26\n",
      "4    35\n",
      "dtype: int64\n"
     ]
    }
   ],
   "source": [
    "squares = pd.Series([1**2, 2**2, 3**2, 4**2, 5**2])\n",
    "print(squares)\n",
    "\n",
    "print(squares+10)"
   ]
  },
  {
   "cell_type": "markdown",
   "id": "99ea65ce-1c0e-4027-8270-193eac865976",
   "metadata": {},
   "source": [
    "Create a DataFrame named students with the columns: 'Name', 'Age', 'Grade'.\n",
    "Populate it with data for three fictional students.\n",
    "Accessing Data:\n",
    "\n",
    "Print the Name column of the students DataFrame.\n",
    "\n",
    "DataFrame Operations:\n",
    "\n",
    "Add a new column to the students DataFrame named Graduated, which should be True if the student's grade is 'A' and False otherwise.\n",
    "Print the updated DataFrame.\n",
    "\n",
    "Maths:\n",
    "\n",
    "Calculate and print the average age of the students.\n",
    "\n",
    "Sorting:\n",
    "\n",
    "Sort the students DataFrame based on the Age column in descending order and print it."
   ]
  },
  {
   "cell_type": "code",
   "execution_count": 30,
   "id": "a7dcabff-2a3a-4702-abfa-3dd3cc6bd24f",
   "metadata": {
    "tags": []
   },
   "outputs": [
    {
     "data": {
      "text/html": [
       "<div>\n",
       "<style scoped>\n",
       "    .dataframe tbody tr th:only-of-type {\n",
       "        vertical-align: middle;\n",
       "    }\n",
       "\n",
       "    .dataframe tbody tr th {\n",
       "        vertical-align: top;\n",
       "    }\n",
       "\n",
       "    .dataframe thead th {\n",
       "        text-align: right;\n",
       "    }\n",
       "</style>\n",
       "<table border=\"1\" class=\"dataframe\">\n",
       "  <thead>\n",
       "    <tr style=\"text-align: right;\">\n",
       "      <th></th>\n",
       "      <th>Name</th>\n",
       "      <th>Age</th>\n",
       "      <th>Grade</th>\n",
       "    </tr>\n",
       "  </thead>\n",
       "  <tbody>\n",
       "    <tr>\n",
       "      <th>0</th>\n",
       "      <td>Bob</td>\n",
       "      <td>16</td>\n",
       "      <td>A</td>\n",
       "    </tr>\n",
       "    <tr>\n",
       "      <th>1</th>\n",
       "      <td>Billy</td>\n",
       "      <td>17</td>\n",
       "      <td>B</td>\n",
       "    </tr>\n",
       "    <tr>\n",
       "      <th>2</th>\n",
       "      <td>Joe</td>\n",
       "      <td>15</td>\n",
       "      <td>C</td>\n",
       "    </tr>\n",
       "  </tbody>\n",
       "</table>\n",
       "</div>"
      ],
      "text/plain": [
       "    Name  Age Grade\n",
       "0    Bob   16     A\n",
       "1  Billy   17     B\n",
       "2    Joe   15     C"
      ]
     },
     "execution_count": 30,
     "metadata": {},
     "output_type": "execute_result"
    }
   ],
   "source": [
    "categories = {'Name': ['Bob', 'Billy', 'Joe'],\n",
    "            'Age': [16, 17, 15],\n",
    "            'Grade': ['A', 'B', 'C']}\n",
    "\n",
    "students = pd.DataFrame(categories)\n",
    "\n",
    "students"
   ]
  },
  {
   "cell_type": "code",
   "execution_count": 27,
   "id": "cc5590ed-a5f4-4d55-a5c4-f80036ec6c28",
   "metadata": {
    "tags": []
   },
   "outputs": [
    {
     "data": {
      "text/plain": [
       "0      Bob\n",
       "1    Billy\n",
       "2      Joe\n",
       "Name: Name, dtype: object"
      ]
     },
     "execution_count": 27,
     "metadata": {},
     "output_type": "execute_result"
    }
   ],
   "source": [
    "students['Name']"
   ]
  },
  {
   "cell_type": "code",
   "execution_count": 36,
   "id": "6485fb52-59b8-4e18-b7a4-90f79ee7226c",
   "metadata": {},
   "outputs": [
    {
     "name": "stdout",
     "output_type": "stream",
     "text": [
      "    Name  Age Grade  Graduated\n",
      "0    Bob   16     A       True\n",
      "1  Billy   17     B      False\n",
      "2    Joe   15     C      False\n"
     ]
    }
   ],
   "source": [
    "students['Graduated'] = students['Grade'] == 'A'\n",
    "\n",
    "print(students)"
   ]
  },
  {
   "cell_type": "code",
   "execution_count": 37,
   "id": "a6bfe928-d01d-457d-987e-e8087da12858",
   "metadata": {
    "tags": []
   },
   "outputs": [
    {
     "name": "stdout",
     "output_type": "stream",
     "text": [
      "16.0\n"
     ]
    }
   ],
   "source": [
    "average = students['Age'].mean()\n",
    "\n",
    "print(average)"
   ]
  },
  {
   "cell_type": "code",
   "execution_count": 35,
   "id": "ea042376-254d-4d9b-b29c-0dc9dcca74c2",
   "metadata": {
    "tags": []
   },
   "outputs": [
    {
     "name": "stdout",
     "output_type": "stream",
     "text": [
      "    Name  Age Grade\n",
      "1  Billy   17     B\n",
      "0    Bob   16     A\n",
      "2    Joe   15     C\n"
     ]
    }
   ],
   "source": [
    "arranged_students = students.sort_values(by='Age', ascending=False)\n",
    "\n",
    "print(arranged_students)"
   ]
  },
  {
   "cell_type": "markdown",
   "id": "a08c6f22-2aa0-4c8a-b513-dfdf029b0f04",
   "metadata": {},
   "source": [
    "Re-make the cognitive health data frame from class so it is \"tidy\", with each column as variable and each row an observation.\n",
    "\n",
    "* Compute the mean and standard deviation of all variables.\n",
    "\n",
    "* Compute the mean and standard error for the happiness variable (there might even be a method for computing standard error...)."
   ]
  },
  {
   "cell_type": "code",
   "execution_count": 46,
   "id": "45897921-82eb-40c2-af96-1bf618f0db1e",
   "metadata": {
    "tags": []
   },
   "outputs": [
    {
     "name": "stdout",
     "output_type": "stream",
     "text": [
      "          happyness  language  energy  memory\n",
      "subject1         10         2       5       3\n",
      "subject2         15         4       9       6\n",
      "subject3         18         7      12       9\n",
      "subject4         13         2       7       4\n"
     ]
    }
   ],
   "source": [
    "data = { 'happyness': [10,15,18, 13],\n",
    "        'language': [2,4,7,2],\n",
    "        'energy': [5,9,12,7],\n",
    "        'memory': [3,6,9,4]}\n",
    "cog_health = pd.DataFrame(data)\n",
    "\n",
    "cog_health.index = ['subject1', 'subject2','subject3', 'subject4']\n",
    "\n",
    "print(cog_health)"
   ]
  },
  {
   "cell_type": "code",
   "execution_count": 62,
   "id": "fc7f05b0-ef96-4ce3-9480-505bda2056e5",
   "metadata": {
    "tags": []
   },
   "outputs": [
    {
     "name": "stdout",
     "output_type": "stream",
     "text": [
      "happyness    14.00\n",
      "language      3.75\n",
      "energy        8.25\n",
      "memory        5.50\n",
      "dtype: float64\n",
      "happyness    2.915476\n",
      "language     2.046338\n",
      "energy       2.586020\n",
      "memory       2.291288\n",
      "dtype: float64\n"
     ]
    }
   ],
   "source": [
    "import numpy as np \n",
    "\n",
    "mean = cog_health.mean()\n",
    "\n",
    "std_dev = np.std(cog_health)\n",
    "\n",
    "print(mean)\n",
    "print(std_dev)"
   ]
  },
  {
   "cell_type": "code",
   "execution_count": 61,
   "id": "7c754500-c082-402a-b1d1-8b1af2e7ebc8",
   "metadata": {
    "tags": []
   },
   "outputs": [
    {
     "name": "stdout",
     "output_type": "stream",
     "text": [
      "14.0\n",
      "2.9154759474226504\n"
     ]
    }
   ],
   "source": [
    "h_mean = cog_health['happyness'].mean()\n",
    "\n",
    "h_stdDev = np.std(cog_health['happyness'])\n",
    "\n",
    "print(h_mean)\n",
    "print(h_stdDev)"
   ]
  }
 ],
 "metadata": {
  "kernelspec": {
   "display_name": "Python 3 (ipykernel)",
   "language": "python",
   "name": "python3"
  },
  "language_info": {
   "codemirror_mode": {
    "name": "ipython",
    "version": 3
   },
   "file_extension": ".py",
   "mimetype": "text/x-python",
   "name": "python",
   "nbconvert_exporter": "python",
   "pygments_lexer": "ipython3",
   "version": "3.11.4"
  }
 },
 "nbformat": 4,
 "nbformat_minor": 5
}
