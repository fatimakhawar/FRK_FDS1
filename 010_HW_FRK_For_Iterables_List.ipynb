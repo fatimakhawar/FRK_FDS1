{
 "cells": [
  {
   "cell_type": "markdown",
   "id": "2e5813d8-2f1b-42ca-9003-6381d8faeb1f",
   "metadata": {},
   "source": [
    "a) Write a program (i.e. code cell) that takes a list of numbers and prints each number multiplied by 2.\n",
    "\n",
    "Example Input: `[2, 4, 6, 8]`\n",
    "\n",
    "Example Output:\n",
    "```\n",
    "4\n",
    "8\n",
    "12\n",
    "16"
   ]
  },
  {
   "cell_type": "code",
   "execution_count": 12,
   "id": "49310d00-657c-4276-b843-2255cccf437a",
   "metadata": {
    "tags": []
   },
   "outputs": [
    {
     "name": "stdout",
     "output_type": "stream",
     "text": [
      "3 multiplied by 2 is  6\n",
      "6 multiplied by 2 is  12\n",
      "7 multiplied by 2 is  14\n",
      "11 multiplied by 2 is  22\n",
      "14 multiplied by 2 is  28\n",
      "Now the loop is over.\n"
     ]
    }
   ],
   "source": [
    "numbers = [3, 6, 7, 11, 14] \n",
    "\n",
    "for i in numbers :    \n",
    "    multiplied = i*2 \n",
    "    print(i, 'multiplied by 2 is ', multiplied)\n",
    "\n",
    "print('Now the loop is over.')"
   ]
  },
  {
   "cell_type": "markdown",
   "id": "b78e505d-4425-4b96-b668-0475e138dea1",
   "metadata": {},
   "source": [
    "b) Given a list of strings, write a program that prints out the elements of the string in reverse order without reversing the list itself.\n",
    "\n",
    "Example Input: `[\"apple\", \"pear\", \"kiwi\", \"grape\"]`\n",
    "\n",
    "Example Output:\n",
    "```\n",
    "grape\n",
    "kiwi\n",
    "pear\n",
    "apple\n",
    "```"
   ]
  },
  {
   "cell_type": "code",
   "execution_count": 2,
   "id": "47150b4e-5970-40ee-a43c-62fc1126eaf0",
   "metadata": {
    "tags": []
   },
   "outputs": [],
   "source": [
    "animals = [\"cat\", \"dog\", \"bird\", \"bear\", \"llama\"] "
   ]
  },
  {
   "cell_type": "code",
   "execution_count": 17,
   "id": "a460f934-1bec-411b-86b6-5998ca546ab6",
   "metadata": {
    "scrolled": false,
    "tags": []
   },
   "outputs": [
    {
     "name": "stdout",
     "output_type": "stream",
     "text": [
      "llama\n",
      "bear\n",
      "bird\n",
      "dog\n",
      "cat\n"
     ]
    }
   ],
   "source": [
    "for i in reversed:\n",
    "    reversed = (animals[6::-1])\n",
    "    print(i)"
   ]
  },
  {
   "cell_type": "markdown",
   "id": "f181161e",
   "metadata": {},
   "source": [
    "#### 2. Using the range() function:\n",
    "\n",
    "a) Write code that uses a `for` loop and the `range()` function to print numbers 0 through 9.\n",
    "\n",
    "b) Use the `range()` function to print numbers from 5 to 15.\n",
    "\n",
    "c) Create a program that prints out the first 10 even numbers using the `range()` function."
   ]
  },
  {
   "cell_type": "code",
   "execution_count": 20,
   "id": "b702d2eb",
   "metadata": {},
   "outputs": [
    {
     "name": "stdout",
     "output_type": "stream",
     "text": [
      "0\n",
      "1\n",
      "2\n",
      "3\n",
      "4\n",
      "5\n",
      "6\n",
      "7\n",
      "8\n",
      "9\n"
     ]
    }
   ],
   "source": [
    "for i in range(0, 10):\n",
    "    print(i)"
   ]
  },
  {
   "cell_type": "code",
   "execution_count": 22,
   "id": "ffc44691",
   "metadata": {},
   "outputs": [
    {
     "name": "stdout",
     "output_type": "stream",
     "text": [
      "5\n",
      "6\n",
      "7\n",
      "8\n",
      "9\n",
      "10\n",
      "11\n",
      "12\n",
      "13\n",
      "14\n",
      "15\n"
     ]
    }
   ],
   "source": [
    "for i in range (5, 16):\n",
    "    print(i)"
   ]
  },
  {
   "cell_type": "code",
   "execution_count": 28,
   "id": "6449966d",
   "metadata": {},
   "outputs": [
    {
     "name": "stdout",
     "output_type": "stream",
     "text": [
      "2\n",
      "4\n",
      "6\n",
      "8\n",
      "10\n",
      "12\n",
      "14\n",
      "16\n",
      "18\n",
      "20\n"
     ]
    }
   ],
   "source": [
    "for i in range(2, 21, 2):\n",
    "    print(i)"
   ]
  },
  {
   "cell_type": "markdown",
   "id": "2953cef8",
   "metadata": {},
   "source": [
    "### Part 2: Dictionaries and Loops\n",
    "\n",
    "a) Create a dictionary where the keys are student names and the values are their favorite colors. Write a program that prints out each student's name and their favorite color.\n",
    "\n",
    "Example Output:\n",
    "```\n",
    "Alex's favorite color is Blue.\n",
    "Jordan's favorite color is Green.\n",
    "Taylor's favorite color is Red.\n",
    "\n",
    "b) Given a dictionary with product names as keys and their quantities as values, write a program that doubles the quantity of each product and prints out the updated quantities.\n",
    "\n",
    "Example Input: `{\"apple\": 5, \"banana\": 3, \"cherries\": 10}`\n",
    "\n",
    "Example Output:\n",
    "```\n",
    "apple now has 10.\n",
    "banana now has 6.\n",
    "cherries now have 20."
   ]
  },
  {
   "cell_type": "code",
   "execution_count": 37,
   "id": "a035422c",
   "metadata": {},
   "outputs": [
    {
     "name": "stdout",
     "output_type": "stream",
     "text": [
      "Fatima 's favotite color is Green\n",
      "Bob 's favotite color is Yellow\n",
      "Sarah 's favotite color is Purple\n",
      "John 's favotite color is Orange\n"
     ]
    }
   ],
   "source": [
    "StudentNames = {\"Fatima\": \"Green\",\n",
    "               \"Bob\": \"Yellow\",\n",
    "               \"Sarah\": \"Purple\",\n",
    "               \"John\": \"Orange\"}\n",
    "\n",
    "for name in StudentNames: \n",
    "    print(name,\"'s favotite color is\", StudentNames[name])"
   ]
  },
  {
   "cell_type": "code",
   "execution_count": 39,
   "id": "a866602c",
   "metadata": {},
   "outputs": [
    {
     "name": "stdout",
     "output_type": "stream",
     "text": [
      "chips now has 12\n",
      "juice now has 20\n",
      "coffee now has 24\n",
      "eggs now has 18\n"
     ]
    }
   ],
   "source": [
    "ProductName = {\"chips\": 6,\n",
    "              \"juice\": 10,\n",
    "              \"coffee\": 12,\n",
    "              \"eggs\": 9}\n",
    "for product in ProductName:\n",
    "    print(product,\"now has\", ProductName[product]*2) "
   ]
  },
  {
   "cell_type": "markdown",
   "id": "127a2fc5",
   "metadata": {},
   "source": [
    "### Part 3: Storing Results of a For Loop in a New List and List Comprehensions\n",
    "#### 1. not using list comprehension\n",
    "\n",
    "a) Write a program that takes a list of numbers and creates a new list with each number multiplied by 2.\n",
    "\n",
    "Example Input: `[1, 3, 5, 7]`\n",
    "\n",
    "Example Output (new list): `[2, 6, 10, 14]`\n",
    "\n",
    "b) Given a list of words, create a new list that contains the first letter of each word.\n",
    "\n",
    "Example Input: `[\"Apple\", \"Banana\", \"Cherry\", \"Date\"]`\n",
    "\n",
    "Example Output (new list): `[\"A\", \"B\", \"C\", \"D\"]`"
   ]
  },
  {
   "cell_type": "code",
   "execution_count": 8,
   "id": "b9189ce1",
   "metadata": {},
   "outputs": [
    {
     "name": "stdout",
     "output_type": "stream",
     "text": [
      "[10, 20, 30, 40]\n"
     ]
    }
   ],
   "source": [
    "ListOne = [5, 10, 15, 20]\n",
    "\n",
    "ListTwo = [i*2 for i in ListOne]\n",
    "print(ListTwo)"
   ]
  },
  {
   "cell_type": "code",
   "execution_count": 58,
   "id": "7053d52b",
   "metadata": {},
   "outputs": [
    {
     "name": "stdout",
     "output_type": "stream",
     "text": [
      "['D', 'J', 'R', 'L']\n"
     ]
    }
   ],
   "source": [
    "Flowers = [\"Daisy\",\"Jasmine\",\"Rose\",\"Lavender\"]\n",
    "\n",
    "NewList = [i[0:1] for i in Flowers]\n",
    "print(NewList)"
   ]
  },
  {
   "cell_type": "markdown",
   "id": "43c58c00",
   "metadata": {},
   "source": [
    "#### 2. using list comprehension\n",
    "c) Use a list comprehension to compute and save the square roots of a list of numbers from 1 to 10.\n",
    "\n",
    "Input list: `[1, 2, 3, 4, 5, 6, 7, 8, 9, 10]`\n",
    "\n",
    "Expected Output: \n",
    "```\n",
    "[1.0,\n",
    " 1.4142135623730951,\n",
    " 1.7320508075688772,\n",
    " 2.0,\n",
    " 2.23606797749979,\n",
    " 2.449489742783178,\n",
    " 2.6457513110645907,\n",
    " 2.8284271247461903,\n",
    " 3.0,\n",
    " 3.1622776601683795]\n",
    "```\n",
    "\n",
    "d) Given a list of words, use a list comprehension to create a new list containing the last letter of each word.\n",
    "\n",
    "Example Input: `[\"apple\", \"pear\", \"kiwi\", \"grape\"]`\n",
    "\n",
    "Expected Output: `[\"e\", \"r\", \"i\", \"e\"]`\n",
    "\n",
    "---"
   ]
  },
  {
   "cell_type": "code",
   "execution_count": 12,
   "id": "030bc64d",
   "metadata": {},
   "outputs": [
    {
     "name": "stdout",
     "output_type": "stream",
     "text": [
      "Enter a number 1-1111\n",
      "0.0\n",
      "1.0\n",
      "1.4142135623730951\n",
      "1.7320508075688772\n",
      "2.0\n",
      "2.23606797749979\n",
      "2.449489742783178\n",
      "2.6457513110645907\n",
      "2.8284271247461903\n",
      "3.0\n",
      "3.1622776601683795\n"
     ]
    }
   ],
   "source": [
    "Input = input(\"Enter a number 1-11\" )\n",
    "\n",
    "squares = [i**0.5 for i in range(int(Input))]\n",
    "\n",
    "for i in squares:\n",
    "    print(i)"
   ]
  },
  {
   "cell_type": "code",
   "execution_count": 123,
   "id": "9f0be12f",
   "metadata": {},
   "outputs": [
    {
     "name": "stdout",
     "output_type": "stream",
     "text": [
      "['r', 'e', 's', 't']\n"
     ]
    }
   ],
   "source": [
    "Words = [\"Flower\",\"Tree\",\"Grass\",\"Dirt\"]\n",
    "\n",
    "hello = [Letter[-1] for Letter in Words]\n",
    "\n",
    "print(hello)"
   ]
  },
  {
   "cell_type": "markdown",
   "id": "b02f4285",
   "metadata": {},
   "source": [
    "### Part 4: nested loops\n",
    "\n",
    "a) Write some code to \"flatten\" the following list-of-lists-of-lists:\n",
    "```\n",
    "deep_list = [[[1, 2, 3, 4], [5, 6, 7, 8]],\n",
    "            [[9, 10, 11, 12], [13, 14, 15, 16]],\n",
    "            [[17, 18, 19, 20], [21, 22, 23, 42]]]\n",
    "```\n",
    "(that is, make into a simple list of `ints`)\n",
    "\n",
    "b) Write code that, given a list of strings like this:\n",
    "```\n",
    "myStrLst = [\"able\", \"was\", \"I\", \"ere\", \"I\", \"saw\", \"elba\"]\n",
    "```\n",
    "reverses ***both*** the order of the strings in the list ***and*** the order of the letters in each string.  \n",
    "\n",
    "**Warning** This one is tough, and requires you put together a few of the skills we've learned, so don't get frustrated if it takes you a lot of trial and error! That's what coding is often like!"
   ]
  },
  {
   "cell_type": "code",
   "execution_count": 230,
   "id": "0aacda5a",
   "metadata": {},
   "outputs": [
    {
     "name": "stdout",
     "output_type": "stream",
     "text": [
      "[1, 2, 3, 4, 5, 6, 7, 8, 9, 10, 11, 12, 13, 14, 15, 16, 17, 18, 19, 20, 21, 22, 23, 42]\n"
     ]
    }
   ],
   "source": [
    "deep_list = [[1, 2, 3, 4], [5, 6, 7, 8],\n",
    "            [9, 10, 11, 12], [13, 14, 15, 16],\n",
    "            [17, 18, 19, 20], [21, 22, 23, 42]]\n",
    "\n",
    "simple_list = [] \n",
    "for i in range(6) :           \n",
    "    for j in range(4) :  \n",
    "        this_number = deep_list[i][j]\n",
    "        simple_list.append(this_number)  \n",
    "\n",
    "print(simple_list)"
   ]
  },
  {
   "cell_type": "code",
   "execution_count": 202,
   "id": "6e93f29d",
   "metadata": {},
   "outputs": [
    {
     "name": "stdout",
     "output_type": "stream",
     "text": [
      "['esooM', 'elpruP', 'enotS', 'raeB', 'wolleY']\n"
     ]
    }
   ],
   "source": [
    "myStrLst = [\"Yellow\", \"Bear\", \"Stone\", \"Purple\", \"Moose\"] \n",
    "\n",
    "for Letter in myStrLst:\n",
    "    New = [Letter [::-1] for Letter in myStrLst]\n",
    "   \n",
    "print(New[::-1])"
   ]
  }
 ],
 "metadata": {
  "kernelspec": {
   "display_name": "Python 3 (ipykernel)",
   "language": "python",
   "name": "python3"
  },
  "language_info": {
   "codemirror_mode": {
    "name": "ipython",
    "version": 3
   },
   "file_extension": ".py",
   "mimetype": "text/x-python",
   "name": "python",
   "nbconvert_exporter": "python",
   "pygments_lexer": "ipython3",
   "version": "3.11.4"
  }
 },
 "nbformat": 4,
 "nbformat_minor": 5
}
