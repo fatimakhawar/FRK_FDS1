{
 "cells": [
  {
   "cell_type": "markdown",
   "id": "46480833-de74-40af-9af8-dab275851787",
   "metadata": {},
   "source": [
    "Function Design for Unit Conversions:\n",
    "Design and implement functions for the following conversions:\n",
    "- Miles to Kilometers and vice versa.\n",
    "- Fahrenheit to Celsius and vice versa.\n",
    "- Kilograms to Pounds and vice versa.\n",
    "Each conversion should have its dedicated function. For instance, miles_to_km(), km_to_miles(), etc.\n",
    "Each function should return its answer (not just print it).\n"
   ]
  },
  {
   "cell_type": "code",
   "execution_count": 62,
   "id": "f7c019ad-9325-46df-ba24-6afef00de45b",
   "metadata": {
    "tags": []
   },
   "outputs": [
    {
     "name": "stdout",
     "output_type": "stream",
     "text": [
      "(43.5052827843381, 112.63)\n"
     ]
    }
   ],
   "source": [
    "def mkm (km, m):\n",
    "   km_to_miles = km/1.609\n",
    "   miles_to_km = m * 1.609 \n",
    "   return km_to_miles, miles_to_km\n",
    "z = mkm (70, 70)\n",
    "print(z) "
   ]
  },
  {
   "cell_type": "code",
   "execution_count": 52,
   "id": "28d3f4b1-e552-450d-a5a7-53ca059f2459",
   "metadata": {
    "tags": []
   },
   "outputs": [
    {
     "name": "stdout",
     "output_type": "stream",
     "text": [
      "(21.11111111111111, 140.0)\n"
     ]
    }
   ],
   "source": [
    "def fc (f,c):\n",
    "    f_to_c = (f - 32) * 5/9\n",
    "    c_to_f = (c * 9/5) + 32 \n",
    "    return f_to_c, c_to_f\n",
    "z = fc(70, 60)\n",
    "print(z)"
   ]
  },
  {
   "cell_type": "code",
   "execution_count": 60,
   "id": "1ef3c559-75e8-412b-b5e4-e5166e7d8d12",
   "metadata": {
    "tags": []
   },
   "outputs": [
    {
     "name": "stdout",
     "output_type": "stream",
     "text": [
      "(4.41, 1.3605442176870748)\n"
     ]
    }
   ],
   "source": [
    "def kglb (kg, lb):\n",
    "    kg_to_lb = (kg * 2.205)\n",
    "    lb_to_kg = (lb/2.205)\n",
    "    return kg_to_lb, lb_to_kg\n",
    "k = kglb(2, 3)\n",
    "print(k)"
   ]
  },
  {
   "cell_type": "markdown",
   "id": "e56acc4a-6272-4bf4-8d03-de6a6ea8372f",
   "metadata": {},
   "source": [
    "Organize all the conversion functions you've created into a Python module named unit_conversions.py.\n",
    "In a separate script, import your module and demonstrate the use of each function."
   ]
  },
  {
   "cell_type": "code",
   "execution_count": 64,
   "id": "a5c425d1-b298-4bb9-9b78-773cd284360f",
   "metadata": {
    "tags": []
   },
   "outputs": [],
   "source": [
    "import unit_conversions"
   ]
  },
  {
   "cell_type": "code",
   "execution_count": 65,
   "id": "467459dd-0b6a-4eee-8ae4-6e4e3650576d",
   "metadata": {
    "tags": []
   },
   "outputs": [
    {
     "name": "stdout",
     "output_type": "stream",
     "text": [
      "(101.43, 19.501133786848072)\n"
     ]
    }
   ],
   "source": [
    "print(unit_conversions.kglb(46, 43))"
   ]
  },
  {
   "cell_type": "code",
   "execution_count": 66,
   "id": "6de60580-29de-43ca-9426-f925a6be7b21",
   "metadata": {
    "tags": []
   },
   "outputs": [
    {
     "name": "stdout",
     "output_type": "stream",
     "text": [
      "(10.0, 122.0)\n"
     ]
    }
   ],
   "source": [
    "print(unit_conversions.fc(50,50))"
   ]
  },
  {
   "cell_type": "code",
   "execution_count": 67,
   "id": "c4030cbb-800b-4665-8f96-a41dddcaf0ae",
   "metadata": {
    "tags": []
   },
   "outputs": [
    {
     "name": "stdout",
     "output_type": "stream",
     "text": [
      "(37.290242386575514, 96.53999999999999)\n"
     ]
    }
   ],
   "source": [
    "print(unit_conversions.mkm(60,60))"
   ]
  },
  {
   "cell_type": "markdown",
   "id": "291ef4d2-f4d2-499e-9a9a-82eee2423b4c",
   "metadata": {},
   "source": [
    "Namespaces\n",
    "- Make a module with filename \"mylen.py\"\n",
    "        add a function named len to the module\n",
    "        the function should return the number 42 no matter what\n",
    "Create a list mylist (or whatever) with some elements in it (they can be numbers or anything)\n",
    "    - Before importing you module, try a len(mylist)\n",
    "    - Import mylen.py (import mylen)\n",
    "        - verify that mylen.len() works as expected\n",
    "Now do a from mylen import len\n",
    "Finally, repeat the len(mylist)\n",
    "\n",
    "In your own words, compare the outputs of the two len(mylest) calls. What happened? Why? What does this tell you about namespaces and the egalitarian nature of Python?"
   ]
  },
  {
   "cell_type": "code",
   "execution_count": 119,
   "id": "201d029d-a648-4784-a5d8-5b1d56eb378b",
   "metadata": {
    "tags": []
   },
   "outputs": [],
   "source": [
    "mylist = [6, 5, 4, 3]"
   ]
  },
  {
   "cell_type": "code",
   "execution_count": 121,
   "id": "1b480a77-4256-455a-bdb0-fffd88fdc099",
   "metadata": {
    "tags": []
   },
   "outputs": [
    {
     "data": {
      "text/plain": [
       "42"
      ]
     },
     "execution_count": 121,
     "metadata": {},
     "output_type": "execute_result"
    }
   ],
   "source": [
    "len(mylist) "
   ]
  },
  {
   "cell_type": "markdown",
   "id": "274b23b8-fb6b-4c2d-8ac7-7068252f5326",
   "metadata": {},
   "source": [
    "I think I did things in the wrong order so it won't let me do length of list, but I'm sure that it would've told me the length of mylist. This shows that its tricky to give two different things the same namespace. "
   ]
  },
  {
   "cell_type": "code",
   "execution_count": null,
   "id": "5d5ab5eb-f1f5-4392-af40-e60dd420a066",
   "metadata": {},
   "outputs": [
    {
     "data": {
      "text/plain": [
       "42"
      ]
     },
     "execution_count": 106,
     "metadata": {},
     "output_type": "execute_result"
    }
   ],
   "source": [
    "mylen.len(mylist)"
   ]
  },
  {
   "cell_type": "code",
   "execution_count": null,
   "id": "b9279d8e-53ef-46f4-a541-617f7c8b2482",
   "metadata": {},
   "outputs": [],
   "source": [
    "from mylen import len"
   ]
  },
  {
   "cell_type": "code",
   "execution_count": null,
   "id": "148def16-a463-4c1e-996d-ba6a04003090",
   "metadata": {},
   "outputs": [
    {
     "data": {
      "text/plain": [
       "42"
      ]
     },
     "execution_count": 108,
     "metadata": {},
     "output_type": "execute_result"
    }
   ],
   "source": [
    "len(mylist)"
   ]
  }
 ],
 "metadata": {
  "kernelspec": {
   "display_name": "Python 3 (ipykernel)",
   "language": "python",
   "name": "python3"
  },
  "language_info": {
   "codemirror_mode": {
    "name": "ipython",
    "version": 3
   },
   "file_extension": ".py",
   "mimetype": "text/x-python",
   "name": "python",
   "nbconvert_exporter": "python",
   "pygments_lexer": "ipython3",
   "version": "3.11.4"
  }
 },
 "nbformat": 4,
 "nbformat_minor": 5
}
