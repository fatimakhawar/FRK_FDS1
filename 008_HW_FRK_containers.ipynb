{
 "cells": [
  {
   "cell_type": "markdown",
   "id": "f46bad1a",
   "metadata": {},
   "source": [
    "1. Indexing Strings:\n",
    "Given the string s = \"PYTHON\", retrieve and print the following:\n",
    "\n",
    "a) The first character\n",
    "b) The last character\n",
    "c) The string \"H\"\n",
    "d) The type of \"H\""
   ]
  },
  {
   "cell_type": "code",
   "execution_count": 2,
   "id": "556f14f5",
   "metadata": {},
   "outputs": [
    {
     "data": {
      "text/plain": [
       "'P'"
      ]
     },
     "execution_count": 2,
     "metadata": {},
     "output_type": "execute_result"
    }
   ],
   "source": [
    "s = \"PYTHON\"\n",
    "\n",
    "s[0]"
   ]
  },
  {
   "cell_type": "code",
   "execution_count": 3,
   "id": "ebf110f1",
   "metadata": {},
   "outputs": [
    {
     "data": {
      "text/plain": [
       "'N'"
      ]
     },
     "execution_count": 3,
     "metadata": {},
     "output_type": "execute_result"
    }
   ],
   "source": [
    "s[5]"
   ]
  },
  {
   "cell_type": "code",
   "execution_count": 12,
   "id": "309d5b50",
   "metadata": {},
   "outputs": [
    {
     "name": "stdout",
     "output_type": "stream",
     "text": [
      "H\n"
     ]
    }
   ],
   "source": [
    "H = s[3]\n",
    "print(H)"
   ]
  },
  {
   "cell_type": "code",
   "execution_count": 13,
   "id": "f747dadd",
   "metadata": {},
   "outputs": [
    {
     "data": {
      "text/plain": [
       "str"
      ]
     },
     "execution_count": 13,
     "metadata": {},
     "output_type": "execute_result"
    }
   ],
   "source": [
    "type(H)"
   ]
  },
  {
   "cell_type": "markdown",
   "id": "e79745d9",
   "metadata": {},
   "source": [
    "2. Indexing Tuples:\n",
    "Given the tuple t = (10, 20, 30, 40, 50, 60), retrieve and print the following:\n",
    "\n",
    "a) The first element\n",
    "b) The third element \n",
    "c) (Try to) Set the 3rd element to 30.4"
   ]
  },
  {
   "cell_type": "code",
   "execution_count": 14,
   "id": "915b48c7",
   "metadata": {},
   "outputs": [
    {
     "data": {
      "text/plain": [
       "10"
      ]
     },
     "execution_count": 14,
     "metadata": {},
     "output_type": "execute_result"
    }
   ],
   "source": [
    "t=(10,20,30,40,50,60)\n",
    "\n",
    "t[0]"
   ]
  },
  {
   "cell_type": "code",
   "execution_count": 16,
   "id": "dc9ff4b3",
   "metadata": {},
   "outputs": [
    {
     "data": {
      "text/plain": [
       "30"
      ]
     },
     "execution_count": 16,
     "metadata": {},
     "output_type": "execute_result"
    }
   ],
   "source": [
    "t[2]"
   ]
  },
  {
   "cell_type": "code",
   "execution_count": 17,
   "id": "c14c23f9",
   "metadata": {},
   "outputs": [
    {
     "ename": "TypeError",
     "evalue": "'tuple' object does not support item assignment",
     "output_type": "error",
     "traceback": [
      "\u001b[0;31m---------------------------------------------------------------------------\u001b[0m",
      "\u001b[0;31mTypeError\u001b[0m                                 Traceback (most recent call last)",
      "Cell \u001b[0;32mIn[17], line 1\u001b[0m\n\u001b[0;32m----> 1\u001b[0m t[\u001b[38;5;241m3\u001b[39m] \u001b[38;5;241m=\u001b[39m \u001b[38;5;241m30.4\u001b[39m\n",
      "\u001b[0;31mTypeError\u001b[0m: 'tuple' object does not support item assignment"
     ]
    }
   ],
   "source": [
    "t[3] = 30.4"
   ]
  },
  {
   "cell_type": "markdown",
   "id": "7c59711b",
   "metadata": {},
   "source": [
    "3. Indexing Lists and Lists of Lists:\n",
    "Given the list lst = [5, 15, 25, [35, 45, [55, 65, 75], 85], 95], retrieve and print the following:\n",
    "\n",
    "a) The first element\n",
    "b) The last element\n",
    "c) The sublist [55, 65, 75] \n",
    "d) The number 65"
   ]
  },
  {
   "cell_type": "code",
   "execution_count": 18,
   "id": "8e7eb994",
   "metadata": {},
   "outputs": [
    {
     "data": {
      "text/plain": [
       "5"
      ]
     },
     "execution_count": 18,
     "metadata": {},
     "output_type": "execute_result"
    }
   ],
   "source": [
    "lst = [5, 15, 25, [35, 45, [55, 65, 75], 85], 95]\n",
    "\n",
    "lst[0]"
   ]
  },
  {
   "cell_type": "code",
   "execution_count": 38,
   "id": "c1256196",
   "metadata": {},
   "outputs": [
    {
     "data": {
      "text/plain": [
       "95"
      ]
     },
     "execution_count": 38,
     "metadata": {},
     "output_type": "execute_result"
    }
   ],
   "source": [
    "lst[4]"
   ]
  },
  {
   "cell_type": "code",
   "execution_count": 42,
   "id": "e7eeb80a",
   "metadata": {},
   "outputs": [
    {
     "data": {
      "text/plain": [
       "[35, 45, [55, 65, 75], 85]"
      ]
     },
     "execution_count": 42,
     "metadata": {},
     "output_type": "execute_result"
    }
   ],
   "source": [
    "lst[3]"
   ]
  },
  {
   "cell_type": "code",
   "execution_count": 48,
   "id": "8ecf0fd8",
   "metadata": {},
   "outputs": [
    {
     "data": {
      "text/plain": [
       "[55, 65, 75]"
      ]
     },
     "execution_count": 48,
     "metadata": {},
     "output_type": "execute_result"
    }
   ],
   "source": [
    "lst[3][2]"
   ]
  },
  {
   "cell_type": "code",
   "execution_count": 49,
   "id": "d6cba709",
   "metadata": {},
   "outputs": [
    {
     "data": {
      "text/plain": [
       "65"
      ]
     },
     "execution_count": 49,
     "metadata": {},
     "output_type": "execute_result"
    }
   ],
   "source": [
    "lst[3][2][1]"
   ]
  },
  {
   "cell_type": "markdown",
   "id": "f820d470",
   "metadata": {},
   "source": [
    "4. Lists of Lists as Arrays:\n",
    "Consider a 3x3 matrix represented as a list of lists:\n",
    "\n",
    "matrix = [[1, 2, 3],\n",
    "    [4, 5, 6],\n",
    "    [7, 8, 9]]\n",
    "\n",
    "a) Retrieve the second row.\n",
    "b) Retrieve the third column.\n",
    "c) Change the center element to 0 and print the modified matrix."
   ]
  },
  {
   "cell_type": "code",
   "execution_count": 52,
   "id": "6787e0a0",
   "metadata": {},
   "outputs": [
    {
     "data": {
      "text/plain": [
       "[4, 5, 6]"
      ]
     },
     "execution_count": 52,
     "metadata": {},
     "output_type": "execute_result"
    }
   ],
   "source": [
    "matrix = [[1, 2, 3],\n",
    "    [4, 5, 6],\n",
    "    [7, 8, 9]]\n",
    "\n",
    "matrix[1]"
   ]
  },
  {
   "cell_type": "code",
   "execution_count": 54,
   "id": "27b444c4",
   "metadata": {},
   "outputs": [
    {
     "data": {
      "text/plain": [
       "(3, 6, 9)"
      ]
     },
     "execution_count": 54,
     "metadata": {},
     "output_type": "execute_result"
    }
   ],
   "source": [
    "matrix[0][2], matrix[1][2], matrix[2][2]"
   ]
  },
  {
   "cell_type": "code",
   "execution_count": 56,
   "id": "13ec6d56",
   "metadata": {},
   "outputs": [
    {
     "name": "stdout",
     "output_type": "stream",
     "text": [
      "0\n"
     ]
    }
   ],
   "source": [
    "matrix[1][1]=0\n",
    "print(matrix[1][1])"
   ]
  },
  {
   "cell_type": "markdown",
   "id": "8ccde7a2",
   "metadata": {},
   "source": [
    "5. Using Sets:\n",
    "Given two lists \n",
    "A = [1, 2, 2, 3, 4, 4, 5] and B = [4, 5, 5, 6, 7, 7,  8]:\n",
    "\n",
    "a) Create sets from both lists.\n",
    "b) Find the union of the two sets.\n",
    "c) Find the intersection of the two sets.\n",
    "d) Find the elements that are in A but not in B. \n",
    "e) Find the elements that are in A or B but not both."
   ]
  },
  {
   "cell_type": "code",
   "execution_count": 58,
   "id": "5a0d47ea",
   "metadata": {},
   "outputs": [
    {
     "name": "stdout",
     "output_type": "stream",
     "text": [
      "{1, 2, 3, 4, 5} {4, 5, 6, 7, 8}\n"
     ]
    }
   ],
   "source": [
    "A = {1, 2, 2, 3, 4, 4, 5}\n",
    "B = {4, 5, 5, 6, 7, 7,  8}\n",
    "\n",
    "print(A,B)"
   ]
  },
  {
   "cell_type": "code",
   "execution_count": 59,
   "id": "397508de",
   "metadata": {},
   "outputs": [
    {
     "data": {
      "text/plain": [
       "{1, 2, 3, 4, 5, 6, 7, 8}"
      ]
     },
     "execution_count": 59,
     "metadata": {},
     "output_type": "execute_result"
    }
   ],
   "source": [
    "A | B"
   ]
  },
  {
   "cell_type": "code",
   "execution_count": 62,
   "id": "449c32ef",
   "metadata": {},
   "outputs": [
    {
     "data": {
      "text/plain": [
       "{4, 5}"
      ]
     },
     "execution_count": 62,
     "metadata": {},
     "output_type": "execute_result"
    }
   ],
   "source": [
    "A & B "
   ]
  },
  {
   "cell_type": "code",
   "execution_count": 63,
   "id": "7ca8ab9b",
   "metadata": {},
   "outputs": [
    {
     "data": {
      "text/plain": [
       "{1, 2, 3}"
      ]
     },
     "execution_count": 63,
     "metadata": {},
     "output_type": "execute_result"
    }
   ],
   "source": [
    "A - B"
   ]
  },
  {
   "cell_type": "code",
   "execution_count": 64,
   "id": "fcd7efc4",
   "metadata": {},
   "outputs": [
    {
     "data": {
      "text/plain": [
       "{1, 2, 3, 6, 7, 8}"
      ]
     },
     "execution_count": 64,
     "metadata": {},
     "output_type": "execute_result"
    }
   ],
   "source": [
    "B ^ A "
   ]
  },
  {
   "cell_type": "markdown",
   "id": "9b90355f",
   "metadata": {},
   "source": [
    "6. Working with Dictionaries:\n",
    "Consider the following dictionary that represents the stock of items in a store:\n",
    "\n",
    "stock = {\n",
    "    \"apple\": 50,\n",
    "    \"banana\": 25,\n",
    "    \"orange\": 30,\n",
    "    \"grape\": 45\n",
    "}\n",
    "a) Retrieve the stock of apple.\n",
    "b) Add a new fruit, pear, with a stock of 40.\n",
    "c) Update the stock of banana to 30.\n",
    "d) Remove orange from the stock."
   ]
  },
  {
   "cell_type": "code",
   "execution_count": 66,
   "id": "0e7259ca",
   "metadata": {},
   "outputs": [],
   "source": [
    "stock = {\n",
    "    \"apple\": 50,\n",
    "    \"banana\": 25,\n",
    "    \"orange\": 30,\n",
    "    \"grape\": 45 }"
   ]
  },
  {
   "cell_type": "code",
   "execution_count": 70,
   "id": "a5920f77",
   "metadata": {},
   "outputs": [
    {
     "name": "stdout",
     "output_type": "stream",
     "text": [
      "50\n"
     ]
    }
   ],
   "source": [
    "print(stock[\"apple\"])"
   ]
  },
  {
   "cell_type": "code",
   "execution_count": 76,
   "id": "cf4a4367",
   "metadata": {},
   "outputs": [
    {
     "name": "stdout",
     "output_type": "stream",
     "text": [
      "{'apple': 50, 'banana': 25, 'orange': 30, 'grape': 45, 'pear': 40}\n"
     ]
    }
   ],
   "source": [
    "stock[\"pear\"] = 40\n",
    "print(stock)"
   ]
  },
  {
   "cell_type": "code",
   "execution_count": 78,
   "id": "ca4aae35",
   "metadata": {},
   "outputs": [
    {
     "name": "stdout",
     "output_type": "stream",
     "text": [
      "{'apple': 50, 'banana': 30, 'orange': 30, 'grape': 45, 'pear': 40}\n"
     ]
    }
   ],
   "source": [
    "stock[\"banana\"] = 30\n",
    "print(stock)"
   ]
  },
  {
   "cell_type": "code",
   "execution_count": 79,
   "id": "e1d5c3ce",
   "metadata": {},
   "outputs": [
    {
     "name": "stdout",
     "output_type": "stream",
     "text": [
      "{'apple': 50, 'banana': 30, 'grape': 45, 'pear': 40}\n"
     ]
    }
   ],
   "source": [
    "del stock[\"orange\"]\n",
    "print(stock)"
   ]
  }
 ],
 "metadata": {
  "kernelspec": {
   "display_name": "Python 3 (ipykernel)",
   "language": "python",
   "name": "python3"
  },
  "language_info": {
   "codemirror_mode": {
    "name": "ipython",
    "version": 3
   },
   "file_extension": ".py",
   "mimetype": "text/x-python",
   "name": "python",
   "nbconvert_exporter": "python",
   "pygments_lexer": "ipython3",
   "version": "3.11.4"
  }
 },
 "nbformat": 4,
 "nbformat_minor": 5
}
