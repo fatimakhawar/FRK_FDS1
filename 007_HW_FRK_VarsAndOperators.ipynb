{
 "cells": [
  {
   "cell_type": "markdown",
   "id": "9291eed9-b6f2-4012-84bf-2826b2f671c1",
   "metadata": {},
   "source": [
    "1. Variables and Assignment\n",
    "\n",
    "a) Declare a variable name and assign your name to it. Print the variable.\n",
    "\n",
    "b) Declare a variable age and assign your age to it. Print the variable.\n",
    "\n",
    "c) Swap the values of name and age without using a temporary variable. Print the new values of name and age."
   ]
  },
  {
   "cell_type": "code",
   "execution_count": 2,
   "id": "81fdf74d-4d14-4da3-ae40-978d55703b14",
   "metadata": {
    "tags": []
   },
   "outputs": [
    {
     "name": "stdout",
     "output_type": "stream",
     "text": [
      "Fatima\n"
     ]
    }
   ],
   "source": [
    "name = 'Fatima' \n",
    "print(name)"
   ]
  },
  {
   "cell_type": "code",
   "execution_count": 3,
   "id": "2016c14c-4696-4ef6-80f1-9e55ce74be44",
   "metadata": {
    "tags": []
   },
   "outputs": [
    {
     "name": "stdout",
     "output_type": "stream",
     "text": [
      "20\n"
     ]
    }
   ],
   "source": [
    "age = 20 \n",
    "print(age)"
   ]
  },
  {
   "cell_type": "code",
   "execution_count": 2,
   "id": "57834a7a-6627-4e4e-8fb9-b931ef43b610",
   "metadata": {
    "tags": []
   },
   "outputs": [
    {
     "name": "stdout",
     "output_type": "stream",
     "text": [
      "Fatima\n",
      "20\n"
     ]
    }
   ],
   "source": [
    "name = 'Fatima' \n",
    "age = 20\n",
    "\n",
    "name, age = age, name\n",
    "\n",
    "print(age)\n",
    "print (name)"
   ]
  },
  {
   "cell_type": "markdown",
   "id": "758ba42b-3ea2-493f-b3ab-dc07510027e4",
   "metadata": {},
   "source": [
    "2. Data Types\n",
    "\n",
    "a) Using the type() function, determine and print the data type of the following values. Three of these will be new to you, but we'll cover them soon!\n",
    "\n",
    "5\n",
    "5.0\n",
    "\"5\"\n",
    "[5]\n",
    "(5, )\n",
    "{5}\n",
    "True\n",
    "\n",
    "b) Declare a variable is_student and assign it the value True if you're a student, otherwise False. Print the variable."
   ]
  },
  {
   "cell_type": "code",
   "execution_count": 6,
   "id": "65782cdf-410a-48dc-9b93-5f98de1ca826",
   "metadata": {
    "tags": []
   },
   "outputs": [
    {
     "name": "stdout",
     "output_type": "stream",
     "text": [
      "<class 'int'>\n"
     ]
    }
   ],
   "source": [
    "a = 5\n",
    "type(a)\n",
    "print(type(a))"
   ]
  },
  {
   "cell_type": "code",
   "execution_count": 7,
   "id": "d6d6dca4-edd1-4512-a723-9af3cb7e20a2",
   "metadata": {
    "tags": []
   },
   "outputs": [
    {
     "name": "stdout",
     "output_type": "stream",
     "text": [
      "<class 'float'>\n"
     ]
    }
   ],
   "source": [
    "b = 5.0 \n",
    "type(b)\n",
    "print(type(b))"
   ]
  },
  {
   "cell_type": "code",
   "execution_count": 8,
   "id": "2010b21b-961a-4ff0-b8c5-bc1de3b97475",
   "metadata": {
    "tags": []
   },
   "outputs": [
    {
     "name": "stdout",
     "output_type": "stream",
     "text": [
      "<class 'str'>\n"
     ]
    }
   ],
   "source": [
    "c = \"5\"\n",
    "type(c)\n",
    "print(type(c))"
   ]
  },
  {
   "cell_type": "code",
   "execution_count": 9,
   "id": "95341034-0df2-4886-800a-579a72913f97",
   "metadata": {
    "tags": []
   },
   "outputs": [
    {
     "name": "stdout",
     "output_type": "stream",
     "text": [
      "<class 'list'>\n"
     ]
    }
   ],
   "source": [
    "d = [5]\n",
    "type(d)\n",
    "print(type(d))"
   ]
  },
  {
   "cell_type": "code",
   "execution_count": 10,
   "id": "26f1da86-2913-4d73-9286-dd4566fa7d14",
   "metadata": {
    "tags": []
   },
   "outputs": [
    {
     "name": "stdout",
     "output_type": "stream",
     "text": [
      "<class 'tuple'>\n"
     ]
    }
   ],
   "source": [
    "e = (5, )\n",
    "print(type(e))"
   ]
  },
  {
   "cell_type": "code",
   "execution_count": 11,
   "id": "c5b264d8-63e7-4cf4-a09d-2d073f1ca0f2",
   "metadata": {
    "tags": []
   },
   "outputs": [
    {
     "name": "stdout",
     "output_type": "stream",
     "text": [
      "<class 'set'>\n"
     ]
    }
   ],
   "source": [
    "f = {5}\n",
    "print(type(f))"
   ]
  },
  {
   "cell_type": "code",
   "execution_count": 13,
   "id": "e0c84fe9-917c-443e-a948-91bc6b53942a",
   "metadata": {
    "tags": []
   },
   "outputs": [
    {
     "name": "stdout",
     "output_type": "stream",
     "text": [
      "<class 'bool'>\n"
     ]
    }
   ],
   "source": [
    "g = True\n",
    "print(type(g))"
   ]
  },
  {
   "cell_type": "markdown",
   "id": "43437e15-4350-4826-8b66-a2da674c3267",
   "metadata": {},
   "source": [
    "b) Declare a variable is_student and assign it the value True if you're a student, otherwise False. Print the variable."
   ]
  },
  {
   "cell_type": "code",
   "execution_count": 14,
   "id": "89cf7c7a-6edf-4bd8-baa6-0b1b429cb19c",
   "metadata": {
    "tags": []
   },
   "outputs": [
    {
     "name": "stdout",
     "output_type": "stream",
     "text": [
      "True\n"
     ]
    }
   ],
   "source": [
    "is_student = True\n",
    "print(is_student)"
   ]
  },
  {
   "cell_type": "markdown",
   "id": "340eda0f-d2f5-4f67-902d-81f3bd916b52",
   "metadata": {},
   "source": [
    "3. Basic Operators\n",
    "\n",
    "a) Using the +, -, *, and / operators, perform the following operations:\n",
    "\n",
    "Add 15 and 23\n",
    "Subtract 50 from 34\n",
    "Multiply 8 by 7\n",
    "Divide 100 by 4\n",
    "Print all results.\n",
    "\n",
    "b) Declare two variables a = 10 and b = 5. Calculate and print the following:\n",
    "\n",
    "The remainder when a is divided by b\n",
    "The result of a raised to the power of b\n"
   ]
  },
  {
   "cell_type": "code",
   "execution_count": 18,
   "id": "5becead5-e370-4d2b-a9f8-458487af1187",
   "metadata": {
    "tags": []
   },
   "outputs": [
    {
     "name": "stdout",
     "output_type": "stream",
     "text": [
      "38\n"
     ]
    }
   ],
   "source": [
    "print(15 + 23)"
   ]
  },
  {
   "cell_type": "code",
   "execution_count": 19,
   "id": "c84634b6-62e5-45ea-964b-d79260e42021",
   "metadata": {
    "tags": []
   },
   "outputs": [
    {
     "name": "stdout",
     "output_type": "stream",
     "text": [
      "16\n"
     ]
    }
   ],
   "source": [
    "print(50-34)"
   ]
  },
  {
   "cell_type": "code",
   "execution_count": 20,
   "id": "a7b617d9-2ff6-4ef0-8bf2-71c42e90996f",
   "metadata": {
    "tags": []
   },
   "outputs": [
    {
     "name": "stdout",
     "output_type": "stream",
     "text": [
      "56\n"
     ]
    }
   ],
   "source": [
    "print(8*7)"
   ]
  },
  {
   "cell_type": "code",
   "execution_count": 21,
   "id": "125a9f51-b237-46c6-99a1-884ffafe3d36",
   "metadata": {
    "tags": []
   },
   "outputs": [
    {
     "name": "stdout",
     "output_type": "stream",
     "text": [
      "25.0\n"
     ]
    }
   ],
   "source": [
    "print(100/4)"
   ]
  },
  {
   "cell_type": "code",
   "execution_count": 22,
   "id": "0b767ff3-5ff7-4e47-a336-228e6b2f01c2",
   "metadata": {
    "tags": []
   },
   "outputs": [
    {
     "data": {
      "text/plain": [
       "0"
      ]
     },
     "execution_count": 22,
     "metadata": {},
     "output_type": "execute_result"
    }
   ],
   "source": [
    "a = 10 \n",
    "b = 5\n",
    "\n",
    "a % b"
   ]
  },
  {
   "cell_type": "code",
   "execution_count": 23,
   "id": "d5a41f0c-1528-4fd2-88b4-8f99c5d06d6e",
   "metadata": {
    "tags": []
   },
   "outputs": [
    {
     "data": {
      "text/plain": [
       "100000"
      ]
     },
     "execution_count": 23,
     "metadata": {},
     "output_type": "execute_result"
    }
   ],
   "source": [
    "a**b"
   ]
  },
  {
   "cell_type": "markdown",
   "id": "8ca4371d-e602-4a5e-896a-b9f02f5b5712",
   "metadata": {},
   "source": [
    "4. Type Conversion\n",
    "\n",
    "a) Convert the string \"123\" to an integer and print the result.\n",
    "\n",
    "b) Convert the integer 456 to a string and print the result.\n",
    "\n",
    "c) Convert the float 78.9 to an integer. What value do you get?"
   ]
  },
  {
   "cell_type": "code",
   "execution_count": 34,
   "id": "bb06130a-9afa-4f82-a1fc-ba56adc552e3",
   "metadata": {
    "tags": []
   },
   "outputs": [
    {
     "data": {
      "text/plain": [
       "123"
      ]
     },
     "execution_count": 34,
     "metadata": {},
     "output_type": "execute_result"
    }
   ],
   "source": [
    "a = \"123\"\n",
    "int(a)"
   ]
  },
  {
   "cell_type": "code",
   "execution_count": 33,
   "id": "e0fea2ba-e2c4-48df-b542-d54ecb13c671",
   "metadata": {
    "tags": []
   },
   "outputs": [
    {
     "data": {
      "text/plain": [
       "'123'"
      ]
     },
     "execution_count": 33,
     "metadata": {},
     "output_type": "execute_result"
    }
   ],
   "source": [
    "b = 456\n",
    "str(a)"
   ]
  },
  {
   "cell_type": "code",
   "execution_count": 36,
   "id": "8757999f-3372-4a3b-990a-d3f92aee255d",
   "metadata": {
    "tags": []
   },
   "outputs": [
    {
     "data": {
      "text/plain": [
       "78"
      ]
     },
     "execution_count": 36,
     "metadata": {},
     "output_type": "execute_result"
    }
   ],
   "source": [
    "c = 78.9 \n",
    "int(78.9)"
   ]
  },
  {
   "cell_type": "markdown",
   "id": "2c0d36eb-c3c6-41d6-82ef-2080d030185e",
   "metadata": {},
   "source": [
    "5. String Manipulation with Operators\n",
    "\n",
    "a) Concatenate (join) the following strings and print the result: \"Python\" and \"Rocks\".\n",
    "\n",
    "b) Repeat the string \"Hello \" three times using the multiplication operator. Print the result."
   ]
  },
  {
   "cell_type": "code",
   "execution_count": 37,
   "id": "f571a7ce-61be-4b32-af1f-a6fa52d2f8f7",
   "metadata": {
    "tags": []
   },
   "outputs": [
    {
     "data": {
      "text/plain": [
       "'pythonrocks'"
      ]
     },
     "execution_count": 37,
     "metadata": {},
     "output_type": "execute_result"
    }
   ],
   "source": [
    "\"python\" + \"rocks\""
   ]
  },
  {
   "cell_type": "code",
   "execution_count": 39,
   "id": "666a3150-5697-482e-8883-2db7cc141a44",
   "metadata": {
    "tags": []
   },
   "outputs": [
    {
     "data": {
      "text/plain": [
       "'hellohellohello'"
      ]
     },
     "execution_count": 39,
     "metadata": {},
     "output_type": "execute_result"
    }
   ],
   "source": [
    "\"hello\"*3"
   ]
  },
  {
   "cell_type": "markdown",
   "id": "253d7cda-d578-4b96-acb5-0a5cec0cab65",
   "metadata": {},
   "source": [
    "BONUS: \n",
    "\n",
    "Declare three variables: x = 5, y = 10, and z = 15. Using only the arithmetic operators (+, -, *, /) and the variable names, swap the values of the variables such that x has the value of y, y has the value of z, and z has the value of x.\n",
    "\n",
    "(So, for example, x = x + z would be fair, but x = 20 would be cheating!)"
   ]
  },
  {
   "cell_type": "code",
   "execution_count": 42,
   "id": "49e23938-7aa3-4e5e-9114-52c1e86598b8",
   "metadata": {
    "tags": []
   },
   "outputs": [
    {
     "name": "stdout",
     "output_type": "stream",
     "text": [
      "15\n"
     ]
    }
   ],
   "source": [
    "x = 5\n",
    "y = 10 \n",
    "z = 15\n",
    "\n",
    "y =  x + y\n",
    "print(y)"
   ]
  },
  {
   "cell_type": "code",
   "execution_count": 43,
   "id": "e2f35ec3-fcd8-4f79-b5dd-5ec10882fdb9",
   "metadata": {
    "tags": []
   },
   "outputs": [
    {
     "name": "stdout",
     "output_type": "stream",
     "text": [
      "10\n"
     ]
    }
   ],
   "source": [
    "x = z - x\n",
    "print(x)"
   ]
  },
  {
   "cell_type": "code",
   "execution_count": 45,
   "id": "dfd34afb-a8ae-490c-8c0a-296c2600af27",
   "metadata": {
    "tags": []
   },
   "outputs": [
    {
     "name": "stdout",
     "output_type": "stream",
     "text": [
      "5\n"
     ]
    }
   ],
   "source": [
    "z = y - x\n",
    "print(z)"
   ]
  }
 ],
 "metadata": {
  "kernelspec": {
   "display_name": "Python 3 (ipykernel)",
   "language": "python",
   "name": "python3"
  },
  "language_info": {
   "codemirror_mode": {
    "name": "ipython",
    "version": 3
   },
   "file_extension": ".py",
   "mimetype": "text/x-python",
   "name": "python",
   "nbconvert_exporter": "python",
   "pygments_lexer": "ipython3",
   "version": "3.11.4"
  }
 },
 "nbformat": 4,
 "nbformat_minor": 5
}
